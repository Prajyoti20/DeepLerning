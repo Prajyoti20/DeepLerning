{
  "nbformat": 4,
  "nbformat_minor": 0,
  "metadata": {
    "colab": {
      "provenance": [],
      "gpuType": "T4",
      "authorship_tag": "ABX9TyNA768M/FFXHP12IX2WBU79",
      "include_colab_link": true
    },
    "kernelspec": {
      "name": "python3",
      "display_name": "Python 3"
    },
    "language_info": {
      "name": "python"
    },
    "accelerator": "GPU"
  },
  "cells": [
    {
      "cell_type": "markdown",
      "metadata": {
        "id": "view-in-github",
        "colab_type": "text"
      },
      "source": [
        "<a href=\"https://colab.research.google.com/github/Prajyoti20/DeepLerning/blob/main/Handwritten_Digit_Classification.ipynb\" target=\"_parent\"><img src=\"https://colab.research.google.com/assets/colab-badge.svg\" alt=\"Open In Colab\"/></a>"
      ]
    },
    {
      "cell_type": "markdown",
      "source": [
        "### **Handwritten Digit Classification Project**\n",
        "\n"
      ],
      "metadata": {
        "id": "xFhN0t144e5l"
      }
    },
    {
      "cell_type": "code",
      "source": [
        "from warnings import filterwarnings\n",
        "filterwarnings(\"ignore\")"
      ],
      "metadata": {
        "id": "vEWFxsB44wrm"
      },
      "execution_count": 2,
      "outputs": []
    },
    {
      "cell_type": "markdown",
      "source": [
        "### **Load MNIST dataset**"
      ],
      "metadata": {
        "id": "PvVt6UQl5HeS"
      }
    },
    {
      "cell_type": "code",
      "source": [
        "from keras.datasets import mnist\n",
        "(x_train,y_train),(x_test,y_test)=mnist.load_data()"
      ],
      "metadata": {
        "colab": {
          "base_uri": "https://localhost:8080/"
        },
        "id": "YrlOYSfm48KB",
        "outputId": "8fe6422a-f620-4f93-a8e7-397a6bd00331"
      },
      "execution_count": 3,
      "outputs": [
        {
          "output_type": "stream",
          "name": "stdout",
          "text": [
            "Downloading data from https://storage.googleapis.com/tensorflow/tf-keras-datasets/mnist.npz\n",
            "11490434/11490434 [==============================] - 1s 0us/step\n"
          ]
        }
      ]
    },
    {
      "cell_type": "code",
      "source": [
        "x_train"
      ],
      "metadata": {
        "colab": {
          "base_uri": "https://localhost:8080/"
        },
        "id": "nUk2Muhu5pf5",
        "outputId": "15e40520-fe95-40c5-a56e-d71600fa96f2"
      },
      "execution_count": 4,
      "outputs": [
        {
          "output_type": "execute_result",
          "data": {
            "text/plain": [
              "array([[[0, 0, 0, ..., 0, 0, 0],\n",
              "        [0, 0, 0, ..., 0, 0, 0],\n",
              "        [0, 0, 0, ..., 0, 0, 0],\n",
              "        ...,\n",
              "        [0, 0, 0, ..., 0, 0, 0],\n",
              "        [0, 0, 0, ..., 0, 0, 0],\n",
              "        [0, 0, 0, ..., 0, 0, 0]],\n",
              "\n",
              "       [[0, 0, 0, ..., 0, 0, 0],\n",
              "        [0, 0, 0, ..., 0, 0, 0],\n",
              "        [0, 0, 0, ..., 0, 0, 0],\n",
              "        ...,\n",
              "        [0, 0, 0, ..., 0, 0, 0],\n",
              "        [0, 0, 0, ..., 0, 0, 0],\n",
              "        [0, 0, 0, ..., 0, 0, 0]],\n",
              "\n",
              "       [[0, 0, 0, ..., 0, 0, 0],\n",
              "        [0, 0, 0, ..., 0, 0, 0],\n",
              "        [0, 0, 0, ..., 0, 0, 0],\n",
              "        ...,\n",
              "        [0, 0, 0, ..., 0, 0, 0],\n",
              "        [0, 0, 0, ..., 0, 0, 0],\n",
              "        [0, 0, 0, ..., 0, 0, 0]],\n",
              "\n",
              "       ...,\n",
              "\n",
              "       [[0, 0, 0, ..., 0, 0, 0],\n",
              "        [0, 0, 0, ..., 0, 0, 0],\n",
              "        [0, 0, 0, ..., 0, 0, 0],\n",
              "        ...,\n",
              "        [0, 0, 0, ..., 0, 0, 0],\n",
              "        [0, 0, 0, ..., 0, 0, 0],\n",
              "        [0, 0, 0, ..., 0, 0, 0]],\n",
              "\n",
              "       [[0, 0, 0, ..., 0, 0, 0],\n",
              "        [0, 0, 0, ..., 0, 0, 0],\n",
              "        [0, 0, 0, ..., 0, 0, 0],\n",
              "        ...,\n",
              "        [0, 0, 0, ..., 0, 0, 0],\n",
              "        [0, 0, 0, ..., 0, 0, 0],\n",
              "        [0, 0, 0, ..., 0, 0, 0]],\n",
              "\n",
              "       [[0, 0, 0, ..., 0, 0, 0],\n",
              "        [0, 0, 0, ..., 0, 0, 0],\n",
              "        [0, 0, 0, ..., 0, 0, 0],\n",
              "        ...,\n",
              "        [0, 0, 0, ..., 0, 0, 0],\n",
              "        [0, 0, 0, ..., 0, 0, 0],\n",
              "        [0, 0, 0, ..., 0, 0, 0]]], dtype=uint8)"
            ]
          },
          "metadata": {},
          "execution_count": 4
        }
      ]
    },
    {
      "cell_type": "code",
      "source": [
        "x_train.shape,y_train.shape,x_test.shape,y_test.shape"
      ],
      "metadata": {
        "colab": {
          "base_uri": "https://localhost:8080/"
        },
        "id": "ovuhxhWu5sdo",
        "outputId": "fe32941b-62a4-4642-a7ca-56ed6f2c9abd"
      },
      "execution_count": 5,
      "outputs": [
        {
          "output_type": "execute_result",
          "data": {
            "text/plain": [
              "((60000, 28, 28), (60000,), (10000, 28, 28), (10000,))"
            ]
          },
          "metadata": {},
          "execution_count": 5
        }
      ]
    },
    {
      "cell_type": "code",
      "source": [
        "y_train"
      ],
      "metadata": {
        "colab": {
          "base_uri": "https://localhost:8080/"
        },
        "id": "it8JmtRn50XL",
        "outputId": "02d6a7a2-4349-452f-834d-91edb08aed25"
      },
      "execution_count": 6,
      "outputs": [
        {
          "output_type": "execute_result",
          "data": {
            "text/plain": [
              "array([5, 0, 4, ..., 5, 6, 8], dtype=uint8)"
            ]
          },
          "metadata": {},
          "execution_count": 6
        }
      ]
    },
    {
      "cell_type": "code",
      "source": [
        "import matplotlib.pyplot as plt\n",
        "plt.imshow(x_train[0],cmap=\"gray\")"
      ],
      "metadata": {
        "colab": {
          "base_uri": "https://localhost:8080/",
          "height": 447
        },
        "id": "lsQrwmf8582h",
        "outputId": "bc01ae01-7525-4710-fdbb-384a1a902ae5"
      },
      "execution_count": 7,
      "outputs": [
        {
          "output_type": "execute_result",
          "data": {
            "text/plain": [
              "<matplotlib.image.AxesImage at 0x7f0d4ee46a40>"
            ]
          },
          "metadata": {},
          "execution_count": 7
        },
        {
          "output_type": "display_data",
          "data": {
            "text/plain": [
              "<Figure size 640x480 with 1 Axes>"
            ],
            "image/png": "[encoded data removed]"
          },
          "metadata": {}
        }
      ]
    },
    {
      "cell_type": "code",
      "source": [
        "plt.imshow(x_test[0],cmap=\"gray\")"
      ],
      "metadata": {
        "colab": {
          "base_uri": "https://localhost:8080/",
          "height": 447
        },
        "id": "0vTis4Q56r-b",
        "outputId": "52caacc9-18a5-48e5-9f07-f0ca1c10541d"
      },
      "execution_count": 8,
      "outputs": [
        {
          "output_type": "execute_result",
          "data": {
            "text/plain": [
              "<matplotlib.image.AxesImage at 0x7f0d4991ad10>"
            ]
          },
          "metadata": {},
          "execution_count": 8
        },
        {
          "output_type": "display_data",
          "data": {
            "text/plain": [
              "<Figure size 640x480 with 1 Axes>"
            ],
            "image/png": "[encoded data removed]"
          },
          "metadata": {}
        }
      ]
    },
    {
      "cell_type": "markdown",
      "source": [
        "### **Displaying first 9 images from train data**\n"
      ],
      "metadata": {
        "id": "506WRNFu69ZB"
      }
    },
    {
      "cell_type": "code",
      "source": [
        "plt.figure(figsize=(10,10))\n",
        "for i in range(9):\n",
        "  plt.subplot(3,3,i+1)\n",
        "  plt.imshow(x_train[i],cmap=\"gray\")\n",
        "  plt.title(f\"label:{y_train[i]}\")\n"
      ],
      "metadata": {
        "colab": {
          "base_uri": "https://localhost:8080/",
          "height": 853
        },
        "id": "Gwj8xIGP6SXL",
        "outputId": "11dd168d-32aa-4dcc-da75-7ff09f118bab"
      },
      "execution_count": 9,
      "outputs": [
        {
          "output_type": "display_data",
          "data": {
            "text/plain": [
              "<Figure size 1000x1000 with 9 Axes>"
            ],
            "image/png": "[encoded data removed]"
          },
          "metadata": {}
        }
      ]
    },
    {
      "cell_type": "code",
      "source": [
        "import numpy as np\n",
        "np.unique(y_train)"
      ],
      "metadata": {
        "colab": {
          "base_uri": "https://localhost:8080/"
        },
        "id": "oNlNprhm-AaV",
        "outputId": "b4c6052d-35f3-4bf6-c5ab-92c892f1818c"
      },
      "execution_count": 10,
      "outputs": [
        {
          "output_type": "execute_result",
          "data": {
            "text/plain": [
              "array([0, 1, 2, 3, 4, 5, 6, 7, 8, 9], dtype=uint8)"
            ]
          },
          "metadata": {},
          "execution_count": 10
        }
      ]
    },
    {
      "cell_type": "code",
      "source": [
        "len(np.unique(y_train))"
      ],
      "metadata": {
        "colab": {
          "base_uri": "https://localhost:8080/"
        },
        "id": "hFhqufkG-dYJ",
        "outputId": "8f5c2145-7ece-4248-9134-9a29883294f9"
      },
      "execution_count": 11,
      "outputs": [
        {
          "output_type": "execute_result",
          "data": {
            "text/plain": [
              "10"
            ]
          },
          "metadata": {},
          "execution_count": 11
        }
      ]
    },
    {
      "cell_type": "markdown",
      "source": [
        "### **This is a multiclass classification problem**\n",
        "####Preprocess image data\n",
        "### Pixel value 0-255"
      ],
      "metadata": {
        "id": "mFgbNvC8-2L9"
      }
    },
    {
      "cell_type": "code",
      "source": [
        "x_train_scaled=x_train.astype(\"float32\")/255\n",
        "x_test_scaled=x_test.astype(\"float32\")/255"
      ],
      "metadata": {
        "id": "F6lgz9EC-s09"
      },
      "execution_count": 12,
      "outputs": []
    },
    {
      "cell_type": "code",
      "source": [
        "x_train_scaled[0]\n"
      ],
      "metadata": {
        "colab": {
          "base_uri": "https://localhost:8080/"
        },
        "id": "U7nmVztP_mI4",
        "outputId": "5f844c78-2343-4422-b196-fa79f2f2875f"
      },
      "execution_count": 13,
      "outputs": [
        {
          "output_type": "execute_result",
          "data": {
            "text/plain": [
              "array([[0.        , 0.        , 0.        , 0.        , 0.        ,\n",
              "        0.        , 0.        , 0.        , 0.        , 0.        ,\n",
              "        0.        , 0.        , 0.        , 0.        , 0.        ,\n",
              "        0.        , 0.        , 0.        , 0.        , 0.        ,\n",
              "        0.        , 0.        , 0.        , 0.        , 0.        ,\n",
              "        0.        , 0.        , 0.        ],\n",
              "       [0.        , 0.        , 0.        , 0.        , 0.        ,\n",
              "        0.        , 0.        , 0.        , 0.        , 0.        ,\n",
              "        0.        , 0.        , 0.        , 0.        , 0.        ,\n",
              "        0.        , 0.        , 0.        , 0.        , 0.        ,\n",
              "        0.        , 0.        , 0.        , 0.        , 0.        ,\n",
              "        0.        , 0.        , 0.        ],\n",
              "       [0.        , 0.        , 0.        , 0.        , 0.        ,\n",
              "        0.        , 0.        , 0.        , 0.        , 0.        ,\n",
              "        0.        , 0.        , 0.        , 0.        , 0.        ,\n",
              "        0.        , 0.        , 0.        , 0.        , 0.        ,\n",
              "        0.        , 0.        , 0.        , 0.        , 0.        ,\n",
              "        0.        , 0.        , 0.        ],\n",
              "       [0.        , 0.        , 0.        , 0.        , 0.        ,\n",
              "        0.        , 0.        , 0.        , 0.        , 0.        ,\n",
              "        0.        , 0.        , 0.        , 0.        , 0.        ,\n",
              "        0.        , 0.        , 0.        , 0.        , 0.        ,\n",
              "        0.        , 0.        , 0.        , 0.        , 0.        ,\n",
              "        0.        , 0.        , 0.        ],\n",
              "       [0.        , 0.        , 0.        , 0.        , 0.        ,\n",
              "        0.        , 0.        , 0.        , 0.        , 0.        ,\n",
              "        0.        , 0.        , 0.        , 0.        , 0.        ,\n",
              "        0.        , 0.        , 0.        , 0.        , 0.        ,\n",
              "        0.        , 0.        , 0.        , 0.        , 0.        ,\n",
              "        0.        , 0.        , 0.        ],\n",
              "       [0.        , 0.        , 0.        , 0.        , 0.        ,\n",
              "        0.        , 0.        , 0.        , 0.        , 0.        ,\n",
              "        0.        , 0.        , 0.01176471, 0.07058824, 0.07058824,\n",
              "        0.07058824, 0.49411765, 0.53333336, 0.6862745 , 0.10196079,\n",
              "        0.6509804 , 1.        , 0.96862745, 0.49803922, 0.        ,\n",
              "        0.        , 0.        , 0.        ],\n",
              "       [0.        , 0.        , 0.        , 0.        , 0.        ,\n",
              "        0.        , 0.        , 0.        , 0.11764706, 0.14117648,\n",
              "        0.36862746, 0.6039216 , 0.6666667 , 0.99215686, 0.99215686,\n",
              "        0.99215686, 0.99215686, 0.99215686, 0.88235295, 0.6745098 ,\n",
              "        0.99215686, 0.9490196 , 0.7647059 , 0.2509804 , 0.        ,\n",
              "        0.        , 0.        , 0.        ],\n",
              "       [0.        , 0.        , 0.        , 0.        , 0.        ,\n",
              "        0.        , 0.        , 0.19215687, 0.93333334, 0.99215686,\n",
              "        0.99215686, 0.99215686, 0.99215686, 0.99215686, 0.99215686,\n",
              "        0.99215686, 0.99215686, 0.9843137 , 0.3647059 , 0.32156864,\n",
              "        0.32156864, 0.21960784, 0.15294118, 0.        , 0.        ,\n",
              "        0.        , 0.        , 0.        ],\n",
              "       [0.        , 0.        , 0.        , 0.        , 0.        ,\n",
              "        0.        , 0.        , 0.07058824, 0.85882354, 0.99215686,\n",
              "        0.99215686, 0.99215686, 0.99215686, 0.99215686, 0.7764706 ,\n",
              "        0.7137255 , 0.96862745, 0.94509804, 0.        , 0.        ,\n",
              "        0.        , 0.        , 0.        , 0.        , 0.        ,\n",
              "        0.        , 0.        , 0.        ],\n",
              "       [0.        , 0.        , 0.        , 0.        , 0.        ,\n",
              "        0.        , 0.        , 0.        , 0.3137255 , 0.6117647 ,\n",
              "        0.41960785, 0.99215686, 0.99215686, 0.8039216 , 0.04313726,\n",
              "        0.        , 0.16862746, 0.6039216 , 0.        , 0.        ,\n",
              "        0.        , 0.        , 0.        , 0.        , 0.        ,\n",
              "        0.        , 0.        , 0.        ],\n",
              "       [0.        , 0.        , 0.        , 0.        , 0.        ,\n",
              "        0.        , 0.        , 0.        , 0.        , 0.05490196,\n",
              "        0.00392157, 0.6039216 , 0.99215686, 0.3529412 , 0.        ,\n",
              "        0.        , 0.        , 0.        , 0.        , 0.        ,\n",
              "        0.        , 0.        , 0.        , 0.        , 0.        ,\n",
              "        0.        , 0.        , 0.        ],\n",
              "       [0.        , 0.        , 0.        , 0.        , 0.        ,\n",
              "        0.        , 0.        , 0.        , 0.        , 0.        ,\n",
              "        0.        , 0.54509807, 0.99215686, 0.74509805, 0.00784314,\n",
              "        0.        , 0.        , 0.        , 0.        , 0.        ,\n",
              "        0.        , 0.        , 0.        , 0.        , 0.        ,\n",
              "        0.        , 0.        , 0.        ],\n",
              "       [0.        , 0.        , 0.        , 0.        , 0.        ,\n",
              "        0.        , 0.        , 0.        , 0.        , 0.        ,\n",
              "        0.        , 0.04313726, 0.74509805, 0.99215686, 0.27450982,\n",
              "        0.        , 0.        , 0.        , 0.        , 0.        ,\n",
              "        0.        , 0.        , 0.        , 0.        , 0.        ,\n",
              "        0.        , 0.        , 0.        ],\n",
              "       [0.        , 0.        , 0.        , 0.        , 0.        ,\n",
              "        0.        , 0.        , 0.        , 0.        , 0.        ,\n",
              "        0.        , 0.        , 0.13725491, 0.94509804, 0.88235295,\n",
              "        0.627451  , 0.42352942, 0.00392157, 0.        , 0.        ,\n",
              "        0.        , 0.        , 0.        , 0.        , 0.        ,\n",
              "        0.        , 0.        , 0.        ],\n",
              "       [0.        , 0.        , 0.        , 0.        , 0.        ,\n",
              "        0.        , 0.        , 0.        , 0.        , 0.        ,\n",
              "        0.        , 0.        , 0.        , 0.31764707, 0.9411765 ,\n",
              "        0.99215686, 0.99215686, 0.46666667, 0.09803922, 0.        ,\n",
              "        0.        , 0.        , 0.        , 0.        , 0.        ,\n",
              "        0.        , 0.        , 0.        ],\n",
              "       [0.        , 0.        , 0.        , 0.        , 0.        ,\n",
              "        0.        , 0.        , 0.        , 0.        , 0.        ,\n",
              "        0.        , 0.        , 0.        , 0.        , 0.1764706 ,\n",
              "        0.7294118 , 0.99215686, 0.99215686, 0.5882353 , 0.10588235,\n",
              "        0.        , 0.        , 0.        , 0.        , 0.        ,\n",
              "        0.        , 0.        , 0.        ],\n",
              "       [0.        , 0.        , 0.        , 0.        , 0.        ,\n",
              "        0.        , 0.        , 0.        , 0.        , 0.        ,\n",
              "        0.        , 0.        , 0.        , 0.        , 0.        ,\n",
              "        0.0627451 , 0.3647059 , 0.9882353 , 0.99215686, 0.73333335,\n",
              "        0.        , 0.        , 0.        , 0.        , 0.        ,\n",
              "        0.        , 0.        , 0.        ],\n",
              "       [0.        , 0.        , 0.        , 0.        , 0.        ,\n",
              "        0.        , 0.        , 0.        , 0.        , 0.        ,\n",
              "        0.        , 0.        , 0.        , 0.        , 0.        ,\n",
              "        0.        , 0.        , 0.9764706 , 0.99215686, 0.9764706 ,\n",
              "        0.2509804 , 0.        , 0.        , 0.        , 0.        ,\n",
              "        0.        , 0.        , 0.        ],\n",
              "       [0.        , 0.        , 0.        , 0.        , 0.        ,\n",
              "        0.        , 0.        , 0.        , 0.        , 0.        ,\n",
              "        0.        , 0.        , 0.        , 0.        , 0.18039216,\n",
              "        0.50980395, 0.7176471 , 0.99215686, 0.99215686, 0.8117647 ,\n",
              "        0.00784314, 0.        , 0.        , 0.        , 0.        ,\n",
              "        0.        , 0.        , 0.        ],\n",
              "       [0.        , 0.        , 0.        , 0.        , 0.        ,\n",
              "        0.        , 0.        , 0.        , 0.        , 0.        ,\n",
              "        0.        , 0.        , 0.15294118, 0.5803922 , 0.8980392 ,\n",
              "        0.99215686, 0.99215686, 0.99215686, 0.98039216, 0.7137255 ,\n",
              "        0.        , 0.        , 0.        , 0.        , 0.        ,\n",
              "        0.        , 0.        , 0.        ],\n",
              "       [0.        , 0.        , 0.        , 0.        , 0.        ,\n",
              "        0.        , 0.        , 0.        , 0.        , 0.        ,\n",
              "        0.09411765, 0.44705883, 0.8666667 , 0.99215686, 0.99215686,\n",
              "        0.99215686, 0.99215686, 0.7882353 , 0.30588236, 0.        ,\n",
              "        0.        , 0.        , 0.        , 0.        , 0.        ,\n",
              "        0.        , 0.        , 0.        ],\n",
              "       [0.        , 0.        , 0.        , 0.        , 0.        ,\n",
              "        0.        , 0.        , 0.        , 0.09019608, 0.25882354,\n",
              "        0.8352941 , 0.99215686, 0.99215686, 0.99215686, 0.99215686,\n",
              "        0.7764706 , 0.31764707, 0.00784314, 0.        , 0.        ,\n",
              "        0.        , 0.        , 0.        , 0.        , 0.        ,\n",
              "        0.        , 0.        , 0.        ],\n",
              "       [0.        , 0.        , 0.        , 0.        , 0.        ,\n",
              "        0.        , 0.07058824, 0.67058825, 0.85882354, 0.99215686,\n",
              "        0.99215686, 0.99215686, 0.99215686, 0.7647059 , 0.3137255 ,\n",
              "        0.03529412, 0.        , 0.        , 0.        , 0.        ,\n",
              "        0.        , 0.        , 0.        , 0.        , 0.        ,\n",
              "        0.        , 0.        , 0.        ],\n",
              "       [0.        , 0.        , 0.        , 0.        , 0.21568628,\n",
              "        0.6745098 , 0.8862745 , 0.99215686, 0.99215686, 0.99215686,\n",
              "        0.99215686, 0.95686275, 0.52156866, 0.04313726, 0.        ,\n",
              "        0.        , 0.        , 0.        , 0.        , 0.        ,\n",
              "        0.        , 0.        , 0.        , 0.        , 0.        ,\n",
              "        0.        , 0.        , 0.        ],\n",
              "       [0.        , 0.        , 0.        , 0.        , 0.53333336,\n",
              "        0.99215686, 0.99215686, 0.99215686, 0.83137256, 0.5294118 ,\n",
              "        0.5176471 , 0.0627451 , 0.        , 0.        , 0.        ,\n",
              "        0.        , 0.        , 0.        , 0.        , 0.        ,\n",
              "        0.        , 0.        , 0.        , 0.        , 0.        ,\n",
              "        0.        , 0.        , 0.        ],\n",
              "       [0.        , 0.        , 0.        , 0.        , 0.        ,\n",
              "        0.        , 0.        , 0.        , 0.        , 0.        ,\n",
              "        0.        , 0.        , 0.        , 0.        , 0.        ,\n",
              "        0.        , 0.        , 0.        , 0.        , 0.        ,\n",
              "        0.        , 0.        , 0.        , 0.        , 0.        ,\n",
              "        0.        , 0.        , 0.        ],\n",
              "       [0.        , 0.        , 0.        , 0.        , 0.        ,\n",
              "        0.        , 0.        , 0.        , 0.        , 0.        ,\n",
              "        0.        , 0.        , 0.        , 0.        , 0.        ,\n",
              "        0.        , 0.        , 0.        , 0.        , 0.        ,\n",
              "        0.        , 0.        , 0.        , 0.        , 0.        ,\n",
              "        0.        , 0.        , 0.        ],\n",
              "       [0.        , 0.        , 0.        , 0.        , 0.        ,\n",
              "        0.        , 0.        , 0.        , 0.        , 0.        ,\n",
              "        0.        , 0.        , 0.        , 0.        , 0.        ,\n",
              "        0.        , 0.        , 0.        , 0.        , 0.        ,\n",
              "        0.        , 0.        , 0.        , 0.        , 0.        ,\n",
              "        0.        , 0.        , 0.        ]], dtype=float32)"
            ]
          },
          "metadata": {},
          "execution_count": 13
        }
      ]
    },
    {
      "cell_type": "markdown",
      "source": [
        "### **one hot encode the y features**\n"
      ],
      "metadata": {
        "id": "zv3kH4ER_4tf"
      }
    },
    {
      "cell_type": "code",
      "source": [
        "from keras.utils import to_categorical\n",
        "y_train_encoded=to_categorical(y_train)\n",
        "y_test_encoded=to_categorical(y_test)"
      ],
      "metadata": {
        "id": "UQxZ8AQv_-gF"
      },
      "execution_count": 14,
      "outputs": []
    },
    {
      "cell_type": "code",
      "source": [
        "y_train[0:5]\n"
      ],
      "metadata": {
        "colab": {
          "base_uri": "https://localhost:8080/"
        },
        "id": "r23U2wy7AkbY",
        "outputId": "707d9d52-c500-45a3-d3ef-57603bd1b21a"
      },
      "execution_count": 15,
      "outputs": [
        {
          "output_type": "execute_result",
          "data": {
            "text/plain": [
              "array([5, 0, 4, 1, 9], dtype=uint8)"
            ]
          },
          "metadata": {},
          "execution_count": 15
        }
      ]
    },
    {
      "cell_type": "code",
      "source": [
        "y_test_encoded[0:5]\n"
      ],
      "metadata": {
        "colab": {
          "base_uri": "https://localhost:8080/"
        },
        "id": "PGCY_9xUAo3c",
        "outputId": "b128ade3-348e-4b46-f890-26bfecd74d7c"
      },
      "execution_count": 16,
      "outputs": [
        {
          "output_type": "execute_result",
          "data": {
            "text/plain": [
              "array([[0., 0., 0., 0., 0., 0., 0., 1., 0., 0.],\n",
              "       [0., 0., 1., 0., 0., 0., 0., 0., 0., 0.],\n",
              "       [0., 1., 0., 0., 0., 0., 0., 0., 0., 0.],\n",
              "       [1., 0., 0., 0., 0., 0., 0., 0., 0., 0.],\n",
              "       [0., 0., 0., 0., 1., 0., 0., 0., 0., 0.]], dtype=float32)"
            ]
          },
          "metadata": {},
          "execution_count": 16
        }
      ]
    },
    {
      "cell_type": "code",
      "source": [
        "x_train.shape"
      ],
      "metadata": {
        "colab": {
          "base_uri": "https://localhost:8080/"
        },
        "id": "TETnEJE8Aupk",
        "outputId": "b8af5aea-add6-4972-ab4d-1b9114563c1c"
      },
      "execution_count": 17,
      "outputs": [
        {
          "output_type": "execute_result",
          "data": {
            "text/plain": [
              "(60000, 28, 28)"
            ]
          },
          "metadata": {},
          "execution_count": 17
        }
      ]
    },
    {
      "cell_type": "markdown",
      "source": [
        "\n",
        "### **Build the neural network**\n",
        "\n"
      ],
      "metadata": {
        "id": "R1vlaSx3A_ty"
      }
    },
    {
      "cell_type": "code",
      "source": [
        "from keras.models import Sequential\n",
        "from keras.layers import Input,Conv2D,MaxPooling2D,Flatten,Dense,Dropout"
      ],
      "metadata": {
        "id": "36qo37hhA55J"
      },
      "execution_count": 18,
      "outputs": []
    },
    {
      "cell_type": "code",
      "source": [
        "model = Sequential()\n",
        "\n",
        "#added input layer\n",
        "model.add(Input(shape=(28,28,1)))\n",
        "\n",
        "# Add Convolution layer\n",
        "model.add(Conv2D(filters = 32,kernel_size = (3,3),activation = 'relu'))\n",
        "\n",
        "#Add Max Pooling1\n",
        "model.add(MaxPooling2D(pool_size=(2,2)))\n",
        "\n",
        "# Add concolution layer\n",
        "model.add(Conv2D(filters=64, kernel_size = (3,3),activation= 'relu'))\n",
        "\n",
        "# MAx pooling 2\n",
        "model.add(MaxPooling2D(pool_size=(2,2)))\n",
        "\n",
        "# Add flatten layer\n",
        "model.add(Flatten())\n",
        "\n",
        "# Add Dropout layer\n",
        "model.add(Dropout(0.5))\n",
        "\n",
        "# Output layer\n",
        "model.add(Dense(y_train_encoded.shape[1],activation = 'softmax'))\n"
      ],
      "metadata": {
        "id": "u5hhky9_BnpD"
      },
      "execution_count": 19,
      "outputs": []
    },
    {
      "cell_type": "code",
      "source": [
        "model.summary()\n"
      ],
      "metadata": {
        "colab": {
          "base_uri": "https://localhost:8080/"
        },
        "id": "Rss7FjXxCpcy",
        "outputId": "54ee76de-d893-44b4-9feb-cf3fc2f59c0f"
      },
      "execution_count": 20,
      "outputs": [
        {
          "output_type": "stream",
          "name": "stdout",
          "text": [
            "Model: \"sequential\"\n",
            "_________________________________________________________________\n",
            " Layer (type)                Output Shape              Param #   \n",
            "=================================================================\n",
            " conv2d (Conv2D)             (None, 26, 26, 32)        320       \n",
            "                                                                 \n",
            " max_pooling2d (MaxPooling2  (None, 13, 13, 32)        0         \n",
            " D)                                                              \n",
            "                                                                 \n",
            " conv2d_1 (Conv2D)           (None, 11, 11, 64)        18496     \n",
            "                                                                 \n",
            " max_pooling2d_1 (MaxPoolin  (None, 5, 5, 64)          0         \n",
            " g2D)                                                            \n",
            "                                                                 \n",
            " flatten (Flatten)           (None, 1600)              0         \n",
            "                                                                 \n",
            " dropout (Dropout)           (None, 1600)              0         \n",
            "                                                                 \n",
            " dense (Dense)               (None, 10)                16010     \n",
            "                                                                 \n",
            "=================================================================\n",
            "Total params: 34826 (136.04 KB)\n",
            "Trainable params: 34826 (136.04 KB)\n",
            "Non-trainable params: 0 (0.00 Byte)\n",
            "_________________________________________________________________\n"
          ]
        }
      ]
    },
    {
      "cell_type": "code",
      "source": [
        "model.compile(optimizer = 'adam', loss = 'categorical_crossentropy', metrics = ['accuracy'])\n"
      ],
      "metadata": {
        "id": "fSbuE-AODchm"
      },
      "execution_count": 21,
      "outputs": []
    },
    {
      "cell_type": "code",
      "source": [
        "hist = model.fit(x_train_scaled,y_train_encoded,validation_split=0.1,epochs=15)"
      ],
      "metadata": {
        "colab": {
          "base_uri": "https://localhost:8080/"
        },
        "id": "6YB9_O1eDhKF",
        "outputId": "3a457d0e-7b45-4953-d138-75b9d1a8703e"
      },
      "execution_count": 22,
      "outputs": [
        {
          "output_type": "stream",
          "name": "stdout",
          "text": [
            "Epoch 1/15\n",
            "1688/1688 [==============================] - 12s 5ms/step - loss: 0.2270 - accuracy: 0.9305 - val_loss: 0.0586 - val_accuracy: 0.9830\n",
            "Epoch 2/15\n",
            "1688/1688 [==============================] - 7s 4ms/step - loss: 0.0841 - accuracy: 0.9740 - val_loss: 0.0404 - val_accuracy: 0.9885\n",
            "Epoch 3/15\n",
            "1688/1688 [==============================] - 7s 4ms/step - loss: 0.0652 - accuracy: 0.9804 - val_loss: 0.0393 - val_accuracy: 0.9882\n",
            "Epoch 4/15\n",
            "1688/1688 [==============================] - 7s 4ms/step - loss: 0.0543 - accuracy: 0.9829 - val_loss: 0.0340 - val_accuracy: 0.9912\n",
            "Epoch 5/15\n",
            "1688/1688 [==============================] - 7s 4ms/step - loss: 0.0504 - accuracy: 0.9843 - val_loss: 0.0301 - val_accuracy: 0.9913\n",
            "Epoch 6/15\n",
            "1688/1688 [==============================] - 7s 4ms/step - loss: 0.0467 - accuracy: 0.9852 - val_loss: 0.0323 - val_accuracy: 0.9917\n",
            "Epoch 7/15\n",
            "1688/1688 [==============================] - 7s 4ms/step - loss: 0.0421 - accuracy: 0.9861 - val_loss: 0.0323 - val_accuracy: 0.9917\n",
            "Epoch 8/15\n",
            "1688/1688 [==============================] - 7s 4ms/step - loss: 0.0372 - accuracy: 0.9877 - val_loss: 0.0334 - val_accuracy: 0.9915\n",
            "Epoch 9/15\n",
            "1688/1688 [==============================] - 7s 4ms/step - loss: 0.0350 - accuracy: 0.9888 - val_loss: 0.0279 - val_accuracy: 0.9922\n",
            "Epoch 10/15\n",
            "1688/1688 [==============================] - 8s 5ms/step - loss: 0.0352 - accuracy: 0.9884 - val_loss: 0.0288 - val_accuracy: 0.9915\n",
            "Epoch 11/15\n",
            "1688/1688 [==============================] - 7s 4ms/step - loss: 0.0307 - accuracy: 0.9897 - val_loss: 0.0312 - val_accuracy: 0.9922\n",
            "Epoch 12/15\n",
            "1688/1688 [==============================] - 7s 4ms/step - loss: 0.0309 - accuracy: 0.9901 - val_loss: 0.0290 - val_accuracy: 0.9920\n",
            "Epoch 13/15\n",
            "1688/1688 [==============================] - 6s 4ms/step - loss: 0.0293 - accuracy: 0.9902 - val_loss: 0.0293 - val_accuracy: 0.9935\n",
            "Epoch 14/15\n",
            "1688/1688 [==============================] - 7s 4ms/step - loss: 0.0271 - accuracy: 0.9909 - val_loss: 0.0252 - val_accuracy: 0.9937\n",
            "Epoch 15/15\n",
            "1688/1688 [==============================] - 7s 4ms/step - loss: 0.0270 - accuracy: 0.9907 - val_loss: 0.0300 - val_accuracy: 0.9923\n"
          ]
        }
      ]
    },
    {
      "cell_type": "markdown",
      "source": [
        "### **Plot the learning curve**\n"
      ],
      "metadata": {
        "id": "JP8HKf3jDzne"
      }
    },
    {
      "cell_type": "code",
      "source": [
        "plt.figure(figsize = (10,5))\n",
        "plt.plot(hist.history['loss'],label = 'Train loss')\n",
        "plt.plot(hist.history['val_loss'],label = 'Validation loss')\n",
        "plt.title('Learning curve')\n",
        "plt.ylabel('categorical crossentropy')\n",
        "plt.xlabel('epoch')\n",
        "plt.show"
      ],
      "metadata": {
        "colab": {
          "base_uri": "https://localhost:8080/",
          "height": 656
        },
        "id": "bMiSQnApD3Es",
        "outputId": "f4d2eab6-6cf9-4858-c868-f807fd217e2d"
      },
      "execution_count": 23,
      "outputs": [
        {
          "output_type": "execute_result",
          "data": {
            "text/plain": [
              "<function matplotlib.pyplot.show(close=None, block=None)>"
            ],
            "text/html": [
              "<div style=\"max-width:800px; border: 1px solid var(--colab-border-color);\"><style>\n",
              "      pre.function-repr-contents {\n",
              "        overflow-x: auto;\n",
              "        padding: 8px 12px;\n",
              "        max-height: 500px;\n",
              "      }\n",
              "\n",
              "      pre.function-repr-contents.function-repr-contents-collapsed {\n",
              "        cursor: pointer;\n",
              "        max-height: 100px;\n",
              "      }\n",
              "    </style>\n",
              "    <pre style=\"white-space: initial; background:\n",
              "         var(--colab-secondary-surface-color); padding: 8px 12px;\n",
              "         border-bottom: 1px solid var(--colab-border-color);\"><b>matplotlib.pyplot.show</b><br/>def show(*args, **kwargs)</pre><pre class=\"function-repr-contents function-repr-contents-collapsed\" style=\"\"><a class=\"filepath\" style=\"display:none\" href=\"#\">/usr/local/lib/python3.10/dist-packages/matplotlib/pyplot.py</a>Display all open figures.\n",
              "\n",
              "Parameters\n",
              "----------\n",
              "block : bool, optional\n",
              "    Whether to wait for all figures to be closed before returning.\n",
              "\n",
              "    If `True` block and run the GUI main loop until all figure windows\n",
              "    are closed.\n",
              "\n",
              "    If `False` ensure that all figure windows are displayed and return\n",
              "    immediately.  In this case, you are responsible for ensuring\n",
              "    that the event loop is running to have responsive figures.\n",
              "\n",
              "    Defaults to True in non-interactive mode and to False in interactive\n",
              "    mode (see `.pyplot.isinteractive`).\n",
              "\n",
              "See Also\n",
              "--------\n",
              "ion : Enable interactive mode, which shows / updates the figure after\n",
              "      every plotting command, so that calling ``show()`` is not necessary.\n",
              "ioff : Disable interactive mode.\n",
              "savefig : Save the figure to an image file instead of showing it on screen.\n",
              "\n",
              "Notes\n",
              "-----\n",
              "**Saving figures to file and showing a window at the same time**\n",
              "\n",
              "If you want an image file as well as a user interface window, use\n",
              "`.pyplot.savefig` before `.pyplot.show`. At the end of (a blocking)\n",
              "``show()`` the figure is closed and thus unregistered from pyplot. Calling\n",
              "`.pyplot.savefig` afterwards would save a new and thus empty figure. This\n",
              "limitation of command order does not apply if the show is non-blocking or\n",
              "if you keep a reference to the figure and use `.Figure.savefig`.\n",
              "\n",
              "**Auto-show in jupyter notebooks**\n",
              "\n",
              "The jupyter backends (activated via ``%matplotlib inline``,\n",
              "``%matplotlib notebook``, or ``%matplotlib widget``), call ``show()`` at\n",
              "the end of every cell by default. Thus, you usually don&#x27;t have to call it\n",
              "explicitly there.</pre>\n",
              "      <script>\n",
              "      if (google.colab.kernel.accessAllowed && google.colab.files && google.colab.files.view) {\n",
              "        for (const element of document.querySelectorAll('.filepath')) {\n",
              "          element.style.display = 'block'\n",
              "          element.onclick = (event) => {\n",
              "            event.preventDefault();\n",
              "            event.stopPropagation();\n",
              "            google.colab.files.view(element.textContent, 401);\n",
              "          };\n",
              "        }\n",
              "      }\n",
              "      for (const element of document.querySelectorAll('.function-repr-contents')) {\n",
              "        element.onclick = (event) => {\n",
              "          event.preventDefault();\n",
              "          event.stopPropagation();\n",
              "          element.classList.toggle('function-repr-contents-collapsed');\n",
              "        };\n",
              "      }\n",
              "      </script>\n",
              "      </div>"
            ]
          },
          "metadata": {},
          "execution_count": 23
        },
        {
          "output_type": "display_data",
          "data": {
            "text/plain": [
              "<Figure size 1000x500 with 1 Axes>"
            ],
            "image/png": "[encoded data removed]"
          },
          "metadata": {}
        }
      ]
    },
    {
      "cell_type": "markdown",
      "source": [
        "### **Evaluate the model in train and test**"
      ],
      "metadata": {
        "id": "BFn1RKQJEMmy"
      }
    },
    {
      "cell_type": "code",
      "source": [
        "model.evaluate(x_train_scaled, y_train_encoded)\n"
      ],
      "metadata": {
        "colab": {
          "base_uri": "https://localhost:8080/"
        },
        "id": "F-rqJPKJEScN",
        "outputId": "7b8fc13a-d93a-46ac-8156-84f046aa4c3e"
      },
      "execution_count": 24,
      "outputs": [
        {
          "output_type": "stream",
          "name": "stdout",
          "text": [
            "1875/1875 [==============================] - 5s 3ms/step - loss: 0.0112 - accuracy: 0.9967\n"
          ]
        },
        {
          "output_type": "execute_result",
          "data": {
            "text/plain": [
              "[0.011241250671446323, 0.996666669845581]"
            ]
          },
          "metadata": {},
          "execution_count": 24
        }
      ]
    },
    {
      "cell_type": "code",
      "source": [
        "model.evaluate(x_test_scaled, y_test_encoded)\n",
        "\n"
      ],
      "metadata": {
        "colab": {
          "base_uri": "https://localhost:8080/"
        },
        "id": "AiwA3r-yFQMc",
        "outputId": "6560c1e2-f02d-427a-b786-9d8e03d2453e"
      },
      "execution_count": 25,
      "outputs": [
        {
          "output_type": "stream",
          "name": "stdout",
          "text": [
            "313/313 [==============================] - 1s 3ms/step - loss: 0.0233 - accuracy: 0.9925\n"
          ]
        },
        {
          "output_type": "execute_result",
          "data": {
            "text/plain": [
              "[0.02334469184279442, 0.9925000071525574]"
            ]
          },
          "metadata": {},
          "execution_count": 25
        }
      ]
    },
    {
      "cell_type": "markdown",
      "source": [
        "### Predict results for train and test\n"
      ],
      "metadata": {
        "id": "55YrzB9RR8nR"
      }
    },
    {
      "cell_type": "code",
      "source": [
        "yprob_train = model.predict(x_train_scaled)\n",
        "yprob_test = model.predict(x_test_scaled)"
      ],
      "metadata": {
        "colab": {
          "base_uri": "https://localhost:8080/"
        },
        "id": "iHuznbV5P0gh",
        "outputId": "8cfc7c8c-d68c-408b-d740-900a8a80d427"
      },
      "execution_count": 26,
      "outputs": [
        {
          "output_type": "stream",
          "name": "stdout",
          "text": [
            "1875/1875 [==============================] - 5s 2ms/step\n",
            "313/313 [==============================] - 1s 2ms/step\n"
          ]
        }
      ]
    },
    {
      "cell_type": "code",
      "source": [
        "yprob_train[0:5]"
      ],
      "metadata": {
        "colab": {
          "base_uri": "https://localhost:8080/"
        },
        "id": "8ivEH_eUS6e5",
        "outputId": "fa773192-e968-456f-8746-6e8e188500e7"
      },
      "execution_count": 28,
      "outputs": [
        {
          "output_type": "execute_result",
          "data": {
            "text/plain": [
              "array([[6.61588406e-12, 1.04963043e-11, 2.68846074e-11, 9.59670215e-05,\n",
              "        1.35126090e-14, 9.99903560e-01, 2.70319466e-13, 2.87110535e-09,\n",
              "        1.49912225e-07, 3.79463671e-07],\n",
              "       [9.99999642e-01, 1.00561541e-15, 2.22735210e-07, 1.59707178e-11,\n",
              "        6.86572743e-11, 2.61711399e-11, 2.23273187e-08, 8.42794497e-12,\n",
              "        1.16772254e-08, 4.97229387e-08],\n",
              "       [4.53613989e-16, 6.31193871e-08, 5.25438287e-12, 1.00526401e-12,\n",
              "        9.99995828e-01, 1.66091359e-11, 3.11357017e-12, 7.20737390e-08,\n",
              "        2.66804506e-07, 3.66996733e-06],\n",
              "       [8.81332368e-11, 9.99993086e-01, 2.95281346e-08, 2.61187946e-12,\n",
              "        5.14817793e-06, 1.90503099e-10, 1.20203234e-08, 1.66447489e-06,\n",
              "        1.65096040e-07, 4.42387771e-09],\n",
              "       [4.88359743e-12, 5.78738515e-11, 1.27844091e-09, 1.34512375e-08,\n",
              "        1.94635631e-05, 1.94543284e-10, 7.01747349e-14, 2.55532677e-06,\n",
              "        4.62197647e-07, 9.99977469e-01]], dtype=float32)"
            ]
          },
          "metadata": {},
          "execution_count": 28
        }
      ]
    },
    {
      "cell_type": "code",
      "source": [
        "yprob_test[0:5]\n"
      ],
      "metadata": {
        "colab": {
          "base_uri": "https://localhost:8080/"
        },
        "id": "HVDG50mSSreu",
        "outputId": "242b2a93-d748-4aff-f8bc-66af80ae4ce3"
      },
      "execution_count": 27,
      "outputs": [
        {
          "output_type": "execute_result",
          "data": {
            "text/plain": [
              "array([[8.0731054e-11, 2.5892519e-12, 3.0429069e-07, 5.2743695e-07,\n",
              "        2.1388836e-14, 5.1805608e-12, 3.0728845e-19, 9.9999905e-01,\n",
              "        1.0942973e-10, 6.2222021e-08],\n",
              "       [2.5254083e-06, 1.2952015e-05, 9.9997985e-01, 9.4230057e-10,\n",
              "        3.1423636e-10, 5.9166083e-13, 4.5497986e-06, 1.2586612e-10,\n",
              "        6.0246933e-08, 1.7629304e-11],\n",
              "       [2.6814799e-08, 9.9994946e-01, 8.9670138e-08, 2.8148863e-09,\n",
              "        3.6965466e-05, 7.1568493e-08, 1.8346570e-07, 1.2590956e-05,\n",
              "        4.8301155e-07, 9.8329849e-08],\n",
              "       [9.9996352e-01, 6.2559949e-14, 1.0141783e-06, 3.3256622e-09,\n",
              "        2.6851144e-09, 3.5098938e-07, 3.3091823e-05, 8.5991653e-10,\n",
              "        6.8994410e-07, 1.1876568e-06],\n",
              "       [3.6674405e-10, 4.8718156e-12, 2.0271840e-11, 4.4831304e-12,\n",
              "        9.9999964e-01, 1.6877871e-11, 1.8094105e-09, 2.6368203e-11,\n",
              "        3.8453333e-08, 2.6422026e-07]], dtype=float32)"
            ]
          },
          "metadata": {},
          "execution_count": 27
        }
      ]
    },
    {
      "cell_type": "code",
      "source": [
        "import numpy as np\n",
        "ypred_train = np.argmax(yprob_train, axis=1)\n",
        "ypred_test = np.argmax(yprob_test, axis=1)"
      ],
      "metadata": {
        "id": "rdnKKExLSvbB"
      },
      "execution_count": 29,
      "outputs": []
    },
    {
      "cell_type": "code",
      "source": [
        "ypred_train[0:5]\n"
      ],
      "metadata": {
        "colab": {
          "base_uri": "https://localhost:8080/"
        },
        "id": "et9W7N0xTDsj",
        "outputId": "3a28313d-a856-47b8-9f42-9feb3a77ad9e"
      },
      "execution_count": 30,
      "outputs": [
        {
          "output_type": "execute_result",
          "data": {
            "text/plain": [
              "array([5, 0, 4, 1, 9])"
            ]
          },
          "metadata": {},
          "execution_count": 30
        }
      ]
    },
    {
      "cell_type": "code",
      "source": [
        "y_train[0:5]\n"
      ],
      "metadata": {
        "colab": {
          "base_uri": "https://localhost:8080/"
        },
        "id": "NGsdXa2lTH7Z",
        "outputId": "63caab72-9edf-4f47-a6e0-a851260fbf48"
      },
      "execution_count": 32,
      "outputs": [
        {
          "output_type": "execute_result",
          "data": {
            "text/plain": [
              "array([5, 0, 4, 1, 9], dtype=uint8)"
            ]
          },
          "metadata": {},
          "execution_count": 32
        }
      ]
    },
    {
      "cell_type": "code",
      "source": [
        "ypred_test[0:5]\n"
      ],
      "metadata": {
        "colab": {
          "base_uri": "https://localhost:8080/"
        },
        "id": "lR7ddLzqTLSz",
        "outputId": "4c31172e-8be0-438d-85f1-ae6d6e996c8d"
      },
      "execution_count": 33,
      "outputs": [
        {
          "output_type": "execute_result",
          "data": {
            "text/plain": [
              "array([7, 2, 1, 0, 4])"
            ]
          },
          "metadata": {},
          "execution_count": 33
        }
      ]
    },
    {
      "cell_type": "code",
      "source": [
        "y_test[0:5]"
      ],
      "metadata": {
        "colab": {
          "base_uri": "https://localhost:8080/"
        },
        "id": "FvpZKrVfTSvx",
        "outputId": "0f08b47a-854b-4991-e573-9975233dbd4f"
      },
      "execution_count": 34,
      "outputs": [
        {
          "output_type": "execute_result",
          "data": {
            "text/plain": [
              "array([7, 2, 1, 0, 4], dtype=uint8)"
            ]
          },
          "metadata": {},
          "execution_count": 34
        }
      ]
    },
    {
      "cell_type": "markdown",
      "source": [
        "### Plot the confusion Matrix\n"
      ],
      "metadata": {
        "id": "52mU94z_TasK"
      }
    },
    {
      "cell_type": "code",
      "source": [
        "from sklearn.metrics import ConfusionMatrixDisplay\n",
        "ConfusionMatrixDisplay.from_predictions(y_test, ypred_test)\n",
        ""
      ],
      "metadata": {
        "colab": {
          "base_uri": "https://localhost:8080/",
          "height": 466
        },
        "id": "uei9SdI3TYHz",
        "outputId": "64c7ac7e-dff6-4711-e2a0-809a5c2ce838"
      },
      "execution_count": 35,
      "outputs": [
        {
          "output_type": "execute_result",
          "data": {
            "text/plain": [
              "<sklearn.metrics._plot.confusion_matrix.ConfusionMatrixDisplay at 0x7f0d49165ba0>"
            ]
          },
          "metadata": {},
          "execution_count": 35
        },
        {
          "output_type": "display_data",
          "data": {
            "text/plain": [
              "<Figure size 640x480 with 2 Axes>"
            ],
            "image/png": "[encoded data removed]"
          },
          "metadata": {}
        }
      ]
    },
    {
      "cell_type": "code",
      "source": [
        "from sklearn.metrics import classification_report\n",
        "print(classification_report(y_test, ypred_test))\n",
        ""
      ],
      "metadata": {
        "colab": {
          "base_uri": "https://localhost:8080/"
        },
        "id": "S8Aq8l7PT13E",
        "outputId": "2eaab052-de20-42c0-dbe5-24400c854cda"
      },
      "execution_count": 36,
      "outputs": [
        {
          "output_type": "stream",
          "name": "stdout",
          "text": [
            "              precision    recall  f1-score   support\n",
            "\n",
            "           0       1.00      1.00      1.00       980\n",
            "           1       0.99      1.00      1.00      1135\n",
            "           2       0.99      0.99      0.99      1032\n",
            "           3       0.99      0.99      0.99      1010\n",
            "           4       0.99      1.00      0.99       982\n",
            "           5       0.98      0.99      0.99       892\n",
            "           6       1.00      0.99      0.99       958\n",
            "           7       0.99      0.99      0.99      1028\n",
            "           8       0.99      0.99      0.99       974\n",
            "           9       0.99      0.99      0.99      1009\n",
            "\n",
            "    accuracy                           0.99     10000\n",
            "   macro avg       0.99      0.99      0.99     10000\n",
            "weighted avg       0.99      0.99      0.99     10000\n",
            "\n"
          ]
        }
      ]
    },
    {
      "cell_type": "markdown",
      "source": [
        "### Save above model for future use\n"
      ],
      "metadata": {
        "id": "DibshFbzUBjt"
      }
    },
    {
      "cell_type": "code",
      "source": [
        "model.save('digitmodel_result.keras')\n"
      ],
      "metadata": {
        "id": "PRHzKU2xT8s2"
      },
      "execution_count": 59,
      "outputs": []
    },
    {
      "cell_type": "code",
      "source": [
        "from keras.models import load_model\n",
        "nn = load_model(\"/content/digitmodel_result.keras\")\n",
        "nn.summary()\n",
        ""
      ],
      "metadata": {
        "colab": {
          "base_uri": "https://localhost:8080/"
        },
        "id": "ZbeYH02BUJ-Y",
        "outputId": "b996f6db-3299-41d4-c1bd-af1856159f31"
      },
      "execution_count": 62,
      "outputs": [
        {
          "output_type": "stream",
          "name": "stdout",
          "text": [
            "Model: \"sequential\"\n",
            "_________________________________________________________________\n",
            " Layer (type)                Output Shape              Param #   \n",
            "=================================================================\n",
            " conv2d (Conv2D)             (None, 26, 26, 32)        320       \n",
            "                                                                 \n",
            " max_pooling2d (MaxPooling2  (None, 13, 13, 32)        0         \n",
            " D)                                                              \n",
            "                                                                 \n",
            " conv2d_1 (Conv2D)           (None, 11, 11, 64)        18496     \n",
            "                                                                 \n",
            " max_pooling2d_1 (MaxPoolin  (None, 5, 5, 64)          0         \n",
            " g2D)                                                            \n",
            "                                                                 \n",
            " flatten (Flatten)           (None, 1600)              0         \n",
            "                                                                 \n",
            " dropout (Dropout)           (None, 1600)              0         \n",
            "                                                                 \n",
            " dense (Dense)               (None, 10)                16010     \n",
            "                                                                 \n",
            "=================================================================\n",
            "Total params: 34826 (136.04 KB)\n",
            "Trainable params: 34826 (136.04 KB)\n",
            "Non-trainable params: 0 (0.00 Byte)\n",
            "_________________________________________________________________\n"
          ]
        }
      ]
    },
    {
      "cell_type": "code",
      "source": [
        "# Loading the image\n",
        "import cv2\n",
        "img = cv2.imread('/example_img.jpg', cv2.IMREAD_GRAYSCALE)\n",
        "img\n"
      ],
      "metadata": {
        "colab": {
          "base_uri": "https://localhost:8080/",
          "height": 1000
        },
        "id": "hULp0S3SUx8p",
        "outputId": "e1e3c4dc-4d07-492d-a57f-bf4e3c40c49a"
      },
      "execution_count": 64,
      "outputs": [
        {
          "output_type": "execute_result",
          "data": {
            "text/plain": [
              "array([[  1,   1,   0,   1,   0,   0,   2,   0,   2,   0,   0,   2,   0,\n",
              "          0,   2,   1,   1,   0,   0,   0,   3,   0,   0,   1,   0,   0,\n",
              "          0,   0],\n",
              "       [  0,   0,   0,   0,   3,   2,   0,   1,   0,   3,   3,   0,   0,\n",
              "          0,   0,   0,   0,   4,   0,   2,   2,   0,   1,   0,   0,   0,\n",
              "          0,   0],\n",
              "       [  1,   2,   1,   1,   0,   0,   4,   0,   0,   0,   0,   0,   2,\n",
              "          0,   0,   5,   2,   0,   0,   0,   0,   5,   3,   0,   0,   0,\n",
              "          0,   0],\n",
              "       [  0,   0,   1,   0,   2,   2,   0,   2,   0,   1,   1,   0,   0,\n",
              "          1,   0,   0,   0,   6,   0,   2,   0,   0,   0,   0,   0,   0,\n",
              "          0,   0],\n",
              "       [  0,   1,   5,   0,  75, 224, 253, 254, 255, 252, 253, 255, 255,\n",
              "        255, 255, 253, 254, 220, 105,   0,   4,   0,   0,   2,   0,   0,\n",
              "          0,   0],\n",
              "       [  2,   0,   0,   3, 221, 253, 255, 255, 255, 255, 255, 255, 253,\n",
              "        254, 255, 255, 254, 255, 255, 255, 216, 125,   0,   0,   0,   0,\n",
              "          0,   0],\n",
              "       [  0,   0,   0,   0, 123, 253, 255, 254, 254, 255, 253, 253, 255,\n",
              "        255, 252, 253, 255, 255, 255, 254, 255, 254,   0,   1,   0,   0,\n",
              "          0,   0],\n",
              "       [  0,   2,   2,   0,   3,   1,   0,   2,   1,   1,   0,   2,   0,\n",
              "          3,  96, 224, 254, 255, 254, 255, 254, 171,   2,   0,   0,   0,\n",
              "          0,   0],\n",
              "       [  1,   0,   2,   0,   0,   0,   0,   0,   0,   1,   0,   0,  95,\n",
              "        223, 255, 253, 252, 255, 253, 255, 166,  11,   0,   1,   0,   0,\n",
              "          0,   0],\n",
              "       [  0,   0,   0,   0,   0,   2,   0,   0,   2,   0,   0, 132, 253,\n",
              "        253, 255, 255, 255, 255, 165,   8,   4,   0,   0,   1,   0,   0,\n",
              "          0,   0],\n",
              "       [  0,   0,   0,   0,   2,   0,   0,   0,  71, 222, 255, 248, 255,\n",
              "        255, 253, 169,   8,   0,   0,   6,   0,   0,   0,   0,   0,   0,\n",
              "          0,   0],\n",
              "       [  1,   0,   3,   1,   0,   3,   3,  69, 237, 255, 255, 254, 254,\n",
              "        255, 224,  94,   2,   2,   0,   0,   2,   0,   2,   0,   0,   0,\n",
              "          0,   0],\n",
              "       [  1,   1,   0,   1,   1,   0,   0, 225, 254, 251, 255, 253, 255,\n",
              "        255, 249, 255, 219,  96,   2,   0,   1,   0,   2,   0,   0,   0,\n",
              "          0,   0],\n",
              "       [  1,   0,   1,   0,   0,   2,   0, 120, 255, 254, 254, 253, 252,\n",
              "        255, 255, 254, 255, 243, 103,   0,   0,   5,   0,   3,   0,   0,\n",
              "          0,   0],\n",
              "       [  0,   1,   0,   0,   2,   0,   1,   0,   1,   1,   0,   5,   3,\n",
              "        118, 255, 253, 250, 255, 255, 221,  95,   0,   2,   0,   0,   0,\n",
              "          0,   0],\n",
              "       [  0,   0,   0,   4,   0,   1,   0,   1,   0,   0,   3,   0,   3,\n",
              "          0,   0, 121, 255, 255, 252, 255, 248,   0,   0,   1,   0,   0,\n",
              "          0,   0],\n",
              "       [  0,   0,   4,   0,   0,   1,   0,   1,   1,   1,   0,   0,   0,\n",
              "          2,   0,   1,  10, 155, 255, 255, 250,   3,   1,   0,   0,   0,\n",
              "          0,   0],\n",
              "       [  1,   0,   0,   0,   2,   0,   1,   0,   0,   0,   2,   2,   0,\n",
              "          0,   0,   0,   0,   2, 255, 254, 255,   0,   0,   4,   0,   0,\n",
              "          0,   0],\n",
              "       [  0,   3,   2,   0,   1,   2,   3,   0,   1,   0,   0,   1,   0,\n",
              "          0,   3,   2,   2,   0, 254, 255, 254,   2,   2,   0,   0,   0,\n",
              "          0,   0],\n",
              "       [  0,   0,   0,   6,   0,   0,   0,   1,   0,   2,   0,   2,   0,\n",
              "          3,   0,   0,   0,   1, 254, 255, 252,   3,   0,   2,   0,   0,\n",
              "          0,   0],\n",
              "       [  4,   0,   2,   0,   0,   3,  75, 221, 223,  96,   0,   2,   0,\n",
              "          0,   0,   6,   0, 125, 254, 255, 255,   0,   1,   0,   0,   0,\n",
              "          0,   0],\n",
              "       [  0,   5,   1,   0,   0,   1, 216, 255, 255, 243,  98,   0,   2,\n",
              "          2,   0,  72, 224, 255, 255, 255, 166,   0,   4,   0,   0,   0,\n",
              "          0,   0],\n",
              "       [  0,   0,   0,   5,   2,   1, 126, 253, 255, 254, 255, 255, 255,\n",
              "        255, 255, 255, 255, 255, 253, 183,   9,   1,   0,   0,   0,   0,\n",
              "          0,   0],\n",
              "       [  3,   0,   3,   0,   2,   0,   3, 120, 255, 253, 255, 254, 254,\n",
              "        253, 255, 253, 254, 255, 167,   8,   2,   0,   0,   2,   0,   0,\n",
              "          0,   0],\n",
              "       [  0,   0,   0,   0,   0,   0,   0,   0, 121, 253, 255, 254, 252,\n",
              "        255, 251, 255, 255, 147,   2,   0,   0,   2,   2,   0,   0,   0,\n",
              "          0,   0],\n",
              "       [  0,   0,   0,   0,   0,   0,   0,   0,   0,   7,   0,   2,   1,\n",
              "          0,   0,   0,   0,   3,   0,   1,   0,   0,   0,   0,   0,   0,\n",
              "          0,   0],\n",
              "       [  0,   0,   0,   0,   0,   0,   0,   0,   1,   0,   1,   0,   0,\n",
              "          2,   2,   0,   3,   0,   5,   0,   3,   3,   0,   2,   0,   0,\n",
              "          0,   0],\n",
              "       [  0,   0,   0,   0,   0,   0,   0,   0,   1,   7,   1,   0,   0,\n",
              "          0,   0,   2,   0,   0,   0,   0,   0,   0,   0,   3,   0,   0,\n",
              "          0,   0]], dtype=uint8)"
            ],
            "text/html": [
              "<style>\n",
              "      .ndarray_repr .ndarray_raw_data {\n",
              "        display: none;\n",
              "      }\n",
              "      .ndarray_repr.show_array .ndarray_raw_data {\n",
              "        display: block;\n",
              "      }\n",
              "      .ndarray_repr.show_array .ndarray_image_preview {\n",
              "        display: none;\n",
              "      }\n",
              "      </style>\n",
              "      <div id=\"id-827de8cf-8ada-4797-b2bb-4fe66fd580a4\" class=\"ndarray_repr\"><pre>ndarray (28, 28) <button style=\"padding: 0 2px;\">show data</button></pre><img src=\"data:image/png;base64,iVBORw0KGgoAAAANSUhEUgAAABwAAAAcCAAAAABXZoBIAAABbklEQVR4nF2SPW5UQRCEv65+b73AuRBIvgNekSAugGwhE3EDQmKMEAfgKpZg8XIAIifGftNF8P5W7mhGPVVdXTVEECAEAkUACcFcKYLM8dIhzb1QBHQACHoB9DnjAgkRMZJt0EJJ9JweWnlott3q11s6pgeC3Dd77Nhl+/pyxfK+ucqteYSXa1YkkYEiELk7lMv1XYuc+cDZjdvg5qtnR3tODnxszba/bLtjEwS8+O07u33bwmbdhAwyn/+1q3x4JU1mAkQQAX/qwc3+5587HesIEOeuaoNdvn0DPbmoFEEEfb5zu7f3Z0cOdiM8SbiwB9+tajsIIgIQ8fSzfZ+xsDLmp8lsl+cMSRFKxsBSolxaZ24mF0UCUR5yUtQhyNP9zQ4BGy7LXvT0AXFt375G4uXB9tU8EugVH5rLU7UfT2Zgkog8d3NVcyt/3YrjfwRcNNfgB/uTlq3WOkExUgWPawxAJD2Zj2jjJGCdlQD/AQpQsvLcABwNAAAAAElFTkSuQmCC\" class=\"ndarray_image_preview\" /><pre class=\"ndarray_raw_data\">array([[  1,   1,   0,   1,   0,   0,   2,   0,   2,   0,   0,   2,   0,\n",
              "          0,   2,   1,   1,   0,   0,   0,   3,   0,   0,   1,   0,   0,\n",
              "          0,   0],\n",
              "       [  0,   0,   0,   0,   3,   2,   0,   1,   0,   3,   3,   0,   0,\n",
              "          0,   0,   0,   0,   4,   0,   2,   2,   0,   1,   0,   0,   0,\n",
              "          0,   0],\n",
              "       [  1,   2,   1,   1,   0,   0,   4,   0,   0,   0,   0,   0,   2,\n",
              "          0,   0,   5,   2,   0,   0,   0,   0,   5,   3,   0,   0,   0,\n",
              "          0,   0],\n",
              "       [  0,   0,   1,   0,   2,   2,   0,   2,   0,   1,   1,   0,   0,\n",
              "          1,   0,   0,   0,   6,   0,   2,   0,   0,   0,   0,   0,   0,\n",
              "          0,   0],\n",
              "       [  0,   1,   5,   0,  75, 224, 253, 254, 255, 252, 253, 255, 255,\n",
              "        255, 255, 253, 254, 220, 105,   0,   4,   0,   0,   2,   0,   0,\n",
              "          0,   0],\n",
              "       [  2,   0,   0,   3, 221, 253, 255, 255, 255, 255, 255, 255, 253,\n",
              "        254, 255, 255, 254, 255, 255, 255, 216, 125,   0,   0,   0,   0,\n",
              "          0,   0],\n",
              "       [  0,   0,   0,   0, 123, 253, 255, 254, 254, 255, 253, 253, 255,\n",
              "        255, 252, 253, 255, 255, 255, 254, 255, 254,   0,   1,   0,   0,\n",
              "          0,   0],\n",
              "       [  0,   2,   2,   0,   3,   1,   0,   2,   1,   1,   0,   2,   0,\n",
              "          3,  96, 224, 254, 255, 254, 255, 254, 171,   2,   0,   0,   0,\n",
              "          0,   0],\n",
              "       [  1,   0,   2,   0,   0,   0,   0,   0,   0,   1,   0,   0,  95,\n",
              "        223, 255, 253, 252, 255, 253, 255, 166,  11,   0,   1,   0,   0,\n",
              "          0,   0],\n",
              "       [  0,   0,   0,   0,   0,   2,   0,   0,   2,   0,   0, 132, 253,\n",
              "        253, 255, 255, 255, 255, 165,   8,   4,   0,   0,   1,   0,   0,\n",
              "          0,   0],\n",
              "       [  0,   0,   0,   0,   2,   0,   0,   0,  71, 222, 255, 248, 255,\n",
              "        255, 253, 169,   8,   0,   0,   6,   0,   0,   0,   0,   0,   0,\n",
              "          0,   0],\n",
              "       [  1,   0,   3,   1,   0,   3,   3,  69, 237, 255, 255, 254, 254,\n",
              "        255, 224,  94,   2,   2,   0,   0,   2,   0,   2,   0,   0,   0,\n",
              "          0,   0],\n",
              "       [  1,   1,   0,   1,   1,   0,   0, 225, 254, 251, 255, 253, 255,\n",
              "        255, 249, 255, 219,  96,   2,   0,   1,   0,   2,   0,   0,   0,\n",
              "          0,   0],\n",
              "       [  1,   0,   1,   0,   0,   2,   0, 120, 255, 254, 254, 253, 252,\n",
              "        255, 255, 254, 255, 243, 103,   0,   0,   5,   0,   3,   0,   0,\n",
              "          0,   0],\n",
              "       [  0,   1,   0,   0,   2,   0,   1,   0,   1,   1,   0,   5,   3,\n",
              "        118, 255, 253, 250, 255, 255, 221,  95,   0,   2,   0,   0,   0,\n",
              "          0,   0],\n",
              "       [  0,   0,   0,   4,   0,   1,   0,   1,   0,   0,   3,   0,   3,\n",
              "          0,   0, 121, 255, 255, 252, 255, 248,   0,   0,   1,   0,   0,\n",
              "          0,   0],\n",
              "       [  0,   0,   4,   0,   0,   1,   0,   1,   1,   1,   0,   0,   0,\n",
              "          2,   0,   1,  10, 155, 255, 255, 250,   3,   1,   0,   0,   0,\n",
              "          0,   0],\n",
              "       [  1,   0,   0,   0,   2,   0,   1,   0,   0,   0,   2,   2,   0,\n",
              "          0,   0,   0,   0,   2, 255, 254, 255,   0,   0,   4,   0,   0,\n",
              "          0,   0],\n",
              "       [  0,   3,   2,   0,   1,   2,   3,   0,   1,   0,   0,   1,   0,\n",
              "          0,   3,   2,   2,   0, 254, 255, 254,   2,   2,   0,   0,   0,\n",
              "          0,   0],\n",
              "       [  0,   0,   0,   6,   0,   0,   0,   1,   0,   2,   0,   2,   0,\n",
              "          3,   0,   0,   0,   1, 254, 255, 252,   3,   0,   2,   0,   0,\n",
              "          0,   0],\n",
              "       [  4,   0,   2,   0,   0,   3,  75, 221, 223,  96,   0,   2,   0,\n",
              "          0,   0,   6,   0, 125, 254, 255, 255,   0,   1,   0,   0,   0,\n",
              "          0,   0],\n",
              "       [  0,   5,   1,   0,   0,   1, 216, 255, 255, 243,  98,   0,   2,\n",
              "          2,   0,  72, 224, 255, 255, 255, 166,   0,   4,   0,   0,   0,\n",
              "          0,   0],\n",
              "       [  0,   0,   0,   5,   2,   1, 126, 253, 255, 254, 255, 255, 255,\n",
              "        255, 255, 255, 255, 255, 253, 183,   9,   1,   0,   0,   0,   0,\n",
              "          0,   0],\n",
              "       [  3,   0,   3,   0,   2,   0,   3, 120, 255, 253, 255, 254, 254,\n",
              "        253, 255, 253, 254, 255, 167,   8,   2,   0,   0,   2,   0,   0,\n",
              "          0,   0],\n",
              "       [  0,   0,   0,   0,   0,   0,   0,   0, 121, 253, 255, 254, 252,\n",
              "        255, 251, 255, 255, 147,   2,   0,   0,   2,   2,   0,   0,   0,\n",
              "          0,   0],\n",
              "       [  0,   0,   0,   0,   0,   0,   0,   0,   0,   7,   0,   2,   1,\n",
              "          0,   0,   0,   0,   3,   0,   1,   0,   0,   0,   0,   0,   0,\n",
              "          0,   0],\n",
              "       [  0,   0,   0,   0,   0,   0,   0,   0,   1,   0,   1,   0,   0,\n",
              "          2,   2,   0,   3,   0,   5,   0,   3,   3,   0,   2,   0,   0,\n",
              "          0,   0],\n",
              "       [  0,   0,   0,   0,   0,   0,   0,   0,   1,   7,   1,   0,   0,\n",
              "          0,   0,   2,   0,   0,   0,   0,   0,   0,   0,   3,   0,   0,\n",
              "          0,   0]], dtype=uint8)</pre></div><script>\n",
              "      (() => {\n",
              "      const titles = ['show data', 'hide data'];\n",
              "      let index = 0\n",
              "      document.querySelector('#id-827de8cf-8ada-4797-b2bb-4fe66fd580a4 button').onclick = (e) => {\n",
              "        document.querySelector('#id-827de8cf-8ada-4797-b2bb-4fe66fd580a4').classList.toggle('show_array');\n",
              "        index = (++index) % 2;\n",
              "        document.querySelector('#id-827de8cf-8ada-4797-b2bb-4fe66fd580a4 button').textContent = titles[index];\n",
              "        e.preventDefault();\n",
              "        e.stopPropagation();\n",
              "      }\n",
              "      })();\n",
              "    </script>"
            ]
          },
          "metadata": {},
          "execution_count": 64
        }
      ]
    },
    {
      "cell_type": "code",
      "source": [
        "img_scl = img.astype('float32')/255"
      ],
      "metadata": {
        "id": "SZLIs6HfU4Ig"
      },
      "execution_count": 65,
      "outputs": []
    },
    {
      "cell_type": "code",
      "source": [
        "probs = model.predict(np.array([img_scl]))\n"
      ],
      "metadata": {
        "colab": {
          "base_uri": "https://localhost:8080/"
        },
        "id": "euvgdMyhWWwZ",
        "outputId": "8ddf22c9-da01-42e1-9882-c83622619c13"
      },
      "execution_count": 66,
      "outputs": [
        {
          "output_type": "stream",
          "name": "stdout",
          "text": [
            "1/1 [==============================] - 0s 183ms/step\n"
          ]
        }
      ]
    },
    {
      "cell_type": "code",
      "source": [
        "probs\n"
      ],
      "metadata": {
        "colab": {
          "base_uri": "https://localhost:8080/"
        },
        "id": "bSmhWyHwcu0y",
        "outputId": "f285b88a-8a12-46e7-8fce-789d5befd716"
      },
      "execution_count": 67,
      "outputs": [
        {
          "output_type": "execute_result",
          "data": {
            "text/plain": [
              "array([[3.6494546e-20, 7.3877610e-18, 3.7269019e-13, 9.9999785e-01,\n",
              "        6.3329386e-18, 2.1831190e-06, 8.8355562e-17, 1.0107180e-13,\n",
              "        1.4864521e-12, 1.3317365e-11]], dtype=float32)"
            ]
          },
          "metadata": {},
          "execution_count": 67
        }
      ]
    },
    {
      "cell_type": "code",
      "source": [
        "pred = np.argmax(probs)\n",
        "pred"
      ],
      "metadata": {
        "colab": {
          "base_uri": "https://localhost:8080/"
        },
        "id": "tSExRHOgcyUe",
        "outputId": "6199c67e-6b15-4f2d-9f2d-69fe72650a82"
      },
      "execution_count": 68,
      "outputs": [
        {
          "output_type": "execute_result",
          "data": {
            "text/plain": [
              "3"
            ]
          },
          "metadata": {},
          "execution_count": 68
        }
      ]
    },
    {
      "cell_type": "code",
      "source": [
        "prob = np.max(probs)\n",
        "prob"
      ],
      "metadata": {
        "colab": {
          "base_uri": "https://localhost:8080/"
        },
        "id": "7yVkEdobc2RU",
        "outputId": "903cdb36-5a41-4f79-a540-9a1fe95b9d12"
      },
      "execution_count": 69,
      "outputs": [
        {
          "output_type": "execute_result",
          "data": {
            "text/plain": [
              "0.99999785"
            ]
          },
          "metadata": {},
          "execution_count": 69
        }
      ]
    },
    {
      "cell_type": "code",
      "source": [
        "def predict_number(path):\n",
        "  img = cv2.imread(path, cv2.IMREAD_GRAYSCALE)\n",
        "  plt.imshow(img, cmap='gray')\n",
        "  plt.show()\n",
        "  img_scl = img.astype('float32')/255\n",
        "  probs = model.predict(np.array([img_scl]))\n",
        "  pred = np.argmax(probs)\n",
        "  prob = np.max(probs)\n",
        "  return pred, prob"
      ],
      "metadata": {
        "id": "67ZPbg4Mc5QP"
      },
      "execution_count": 70,
      "outputs": []
    },
    {
      "cell_type": "code",
      "source": [
        "predict_number('/example_img2.jpg')\n"
      ],
      "metadata": {
        "colab": {
          "base_uri": "https://localhost:8080/",
          "height": 465
        },
        "id": "u5ZA6q4kc8Im",
        "outputId": "38c93f8b-177b-4cbe-965b-8e404168142b"
      },
      "execution_count": 71,
      "outputs": [
        {
          "output_type": "display_data",
          "data": {
            "text/plain": [
              "<Figure size 640x480 with 1 Axes>"
            ],
            "image/png": "[encoded data removed]"
          },
          "metadata": {}
        },
        {
          "output_type": "stream",
          "name": "stdout",
          "text": [
            "1/1 [==============================] - 0s 35ms/step\n"
          ]
        },
        {
          "output_type": "execute_result",
          "data": {
            "text/plain": [
              "(7, 0.99645066)"
            ]
          },
          "metadata": {},
          "execution_count": 71
        }
      ]
    },
    {
      "cell_type": "code",
      "source": [
        "predict_number('/example_img3.jpg')\n"
      ],
      "metadata": {
        "colab": {
          "base_uri": "https://localhost:8080/",
          "height": 465
        },
        "id": "3uDGgHCcdGAY",
        "outputId": "42646be7-ca15-42f5-ee56-1463cfcbb985"
      },
      "execution_count": 72,
      "outputs": [
        {
          "output_type": "display_data",
          "data": {
            "text/plain": [
              "<Figure size 640x480 with 1 Axes>"
            ],
            "image/png": "[encoded data removed]"
          },
          "metadata": {}
        },
        {
          "output_type": "stream",
          "name": "stdout",
          "text": [
            "1/1 [==============================] - 0s 30ms/step\n"
          ]
        },
        {
          "output_type": "execute_result",
          "data": {
            "text/plain": [
              "(4, 0.97654516)"
            ]
          },
          "metadata": {},
          "execution_count": 72
        }
      ]
    },
    {
      "cell_type": "code",
      "source": [],
      "metadata": {
        "id": "WqXglznGdLGt"
      },
      "execution_count": null,
      "outputs": []
    }
  ]
}